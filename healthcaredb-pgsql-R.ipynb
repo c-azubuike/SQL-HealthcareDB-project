{
 "cells": [
  {
   "cell_type": "code",
   "execution_count": null,
   "metadata": {
    "vscode": {
     "languageId": "r"
    }
   },
   "outputs": [],
   "source": [
    "# install and load the necessary packages\n",
    "install.packages(c('DBI','RPostgres','dplyr'))\n",
    "library(DBI)\n",
    "library(RPostgres)\n",
    "library(dplyr)\n",
    "library(tidyr)\n",
    "library(ggplot2)"
   ]
  },
  {
   "cell_type": "code",
   "execution_count": 3,
   "metadata": {
    "vscode": {
     "languageId": "r"
    }
   },
   "outputs": [
    {
     "data": {
      "text/html": [
       "<table class=\"dataframe\">\n",
       "<caption>A data.frame: 10 × 8</caption>\n",
       "<thead>\n",
       "\t<tr><th scope=col>patientid</th><th scope=col>first_name</th><th scope=col>last_name</th><th scope=col>dob</th><th scope=col>gender</th><th scope=col>address</th><th scope=col>phone</th><th scope=col>email</th></tr>\n",
       "\t<tr><th scope=col>&lt;int&gt;</th><th scope=col>&lt;chr&gt;</th><th scope=col>&lt;chr&gt;</th><th scope=col>&lt;date&gt;</th><th scope=col>&lt;chr&gt;</th><th scope=col>&lt;chr&gt;</th><th scope=col>&lt;chr&gt;</th><th scope=col>&lt;chr&gt;</th></tr>\n",
       "</thead>\n",
       "<tbody>\n",
       "\t<tr><td> 1</td><td>John   </td><td>Doe     </td><td>1985-07-15</td><td>Male      </td><td>123 Elm St, Springfield, IL   </td><td>5551234567</td><td>john.doe01@gmail.com           </td></tr>\n",
       "\t<tr><td> 2</td><td>Jane   </td><td>Smith   </td><td>1990-03-22</td><td>Female    </td><td>456 Oak St, Springfield, IL   </td><td>5552345678</td><td>jane.smith91@yahoo.com         </td></tr>\n",
       "\t<tr><td> 3</td><td>Alex   </td><td>Johnson </td><td>1995-11-30</td><td>Non-Binary</td><td>789 Pine St, Springfield, IL  </td><td>5553456789</td><td>alex.johnson123@outlook.com    </td></tr>\n",
       "\t<tr><td> 4</td><td>Michael</td><td>Brown   </td><td>1982-01-10</td><td>Male      </td><td>101 Maple St, Springfield, IL </td><td>5554567890</td><td>mike.brown82@hotmail.com       </td></tr>\n",
       "\t<tr><td> 5</td><td>Emily  </td><td>Davis   </td><td>1993-04-05</td><td>Female    </td><td>202 Birch St, Springfield, IL </td><td>5555678901</td><td>emily.davis94@icloud.com       </td></tr>\n",
       "\t<tr><td> 6</td><td>Chris  </td><td>Wilson  </td><td>1987-08-14</td><td>Male      </td><td>303 Cedar St, Springfield, IL </td><td>5556789012</td><td>chris.wilson87@aol.com         </td></tr>\n",
       "\t<tr><td> 7</td><td>Taylor </td><td>Moore   </td><td>1991-12-25</td><td>Non-Binary</td><td>404 Walnut St, Springfield, IL</td><td>5557890123</td><td>taylor.moore2020@protonmail.com</td></tr>\n",
       "\t<tr><td> 8</td><td>Jessica</td><td>Taylor  </td><td>1989-09-18</td><td>Female    </td><td>505 Ash St, Springfield, IL   </td><td>5558901234</td><td>jessica.taylor89@gmail.com     </td></tr>\n",
       "\t<tr><td> 9</td><td>David  </td><td>Anderson</td><td>1984-05-02</td><td>Male      </td><td>606 Pine St, Springfield, IL  </td><td>5559012345</td><td>david.anderson@yahoo.com       </td></tr>\n",
       "\t<tr><td>10</td><td>Sarah  </td><td>Thomas  </td><td>1992-07-27</td><td>Female    </td><td>707 Oak St, Springfield, IL   </td><td>5550123456</td><td>sarah.thomas92@outlook.com     </td></tr>\n",
       "</tbody>\n",
       "</table>\n"
      ],
      "text/latex": [
       "A data.frame: 10 × 8\n",
       "\\begin{tabular}{llllllll}\n",
       " patientid & first\\_name & last\\_name & dob & gender & address & phone & email\\\\\n",
       " <int> & <chr> & <chr> & <date> & <chr> & <chr> & <chr> & <chr>\\\\\n",
       "\\hline\n",
       "\t  1 & John    & Doe      & 1985-07-15 & Male       & 123 Elm St, Springfield, IL    & 5551234567 & john.doe01@gmail.com           \\\\\n",
       "\t  2 & Jane    & Smith    & 1990-03-22 & Female     & 456 Oak St, Springfield, IL    & 5552345678 & jane.smith91@yahoo.com         \\\\\n",
       "\t  3 & Alex    & Johnson  & 1995-11-30 & Non-Binary & 789 Pine St, Springfield, IL   & 5553456789 & alex.johnson123@outlook.com    \\\\\n",
       "\t  4 & Michael & Brown    & 1982-01-10 & Male       & 101 Maple St, Springfield, IL  & 5554567890 & mike.brown82@hotmail.com       \\\\\n",
       "\t  5 & Emily   & Davis    & 1993-04-05 & Female     & 202 Birch St, Springfield, IL  & 5555678901 & emily.davis94@icloud.com       \\\\\n",
       "\t  6 & Chris   & Wilson   & 1987-08-14 & Male       & 303 Cedar St, Springfield, IL  & 5556789012 & chris.wilson87@aol.com         \\\\\n",
       "\t  7 & Taylor  & Moore    & 1991-12-25 & Non-Binary & 404 Walnut St, Springfield, IL & 5557890123 & taylor.moore2020@protonmail.com\\\\\n",
       "\t  8 & Jessica & Taylor   & 1989-09-18 & Female     & 505 Ash St, Springfield, IL    & 5558901234 & jessica.taylor89@gmail.com     \\\\\n",
       "\t  9 & David   & Anderson & 1984-05-02 & Male       & 606 Pine St, Springfield, IL   & 5559012345 & david.anderson@yahoo.com       \\\\\n",
       "\t 10 & Sarah   & Thomas   & 1992-07-27 & Female     & 707 Oak St, Springfield, IL    & 5550123456 & sarah.thomas92@outlook.com     \\\\\n",
       "\\end{tabular}\n"
      ],
      "text/markdown": [
       "\n",
       "A data.frame: 10 × 8\n",
       "\n",
       "| patientid &lt;int&gt; | first_name &lt;chr&gt; | last_name &lt;chr&gt; | dob &lt;date&gt; | gender &lt;chr&gt; | address &lt;chr&gt; | phone &lt;chr&gt; | email &lt;chr&gt; |\n",
       "|---|---|---|---|---|---|---|---|\n",
       "|  1 | John    | Doe      | 1985-07-15 | Male       | 123 Elm St, Springfield, IL    | 5551234567 | john.doe01@gmail.com            |\n",
       "|  2 | Jane    | Smith    | 1990-03-22 | Female     | 456 Oak St, Springfield, IL    | 5552345678 | jane.smith91@yahoo.com          |\n",
       "|  3 | Alex    | Johnson  | 1995-11-30 | Non-Binary | 789 Pine St, Springfield, IL   | 5553456789 | alex.johnson123@outlook.com     |\n",
       "|  4 | Michael | Brown    | 1982-01-10 | Male       | 101 Maple St, Springfield, IL  | 5554567890 | mike.brown82@hotmail.com        |\n",
       "|  5 | Emily   | Davis    | 1993-04-05 | Female     | 202 Birch St, Springfield, IL  | 5555678901 | emily.davis94@icloud.com        |\n",
       "|  6 | Chris   | Wilson   | 1987-08-14 | Male       | 303 Cedar St, Springfield, IL  | 5556789012 | chris.wilson87@aol.com          |\n",
       "|  7 | Taylor  | Moore    | 1991-12-25 | Non-Binary | 404 Walnut St, Springfield, IL | 5557890123 | taylor.moore2020@protonmail.com |\n",
       "|  8 | Jessica | Taylor   | 1989-09-18 | Female     | 505 Ash St, Springfield, IL    | 5558901234 | jessica.taylor89@gmail.com      |\n",
       "|  9 | David   | Anderson | 1984-05-02 | Male       | 606 Pine St, Springfield, IL   | 5559012345 | david.anderson@yahoo.com        |\n",
       "| 10 | Sarah   | Thomas   | 1992-07-27 | Female     | 707 Oak St, Springfield, IL    | 5550123456 | sarah.thomas92@outlook.com      |\n",
       "\n"
      ],
      "text/plain": [
       "   patientid first_name last_name dob        gender    \n",
       "1   1        John       Doe       1985-07-15 Male      \n",
       "2   2        Jane       Smith     1990-03-22 Female    \n",
       "3   3        Alex       Johnson   1995-11-30 Non-Binary\n",
       "4   4        Michael    Brown     1982-01-10 Male      \n",
       "5   5        Emily      Davis     1993-04-05 Female    \n",
       "6   6        Chris      Wilson    1987-08-14 Male      \n",
       "7   7        Taylor     Moore     1991-12-25 Non-Binary\n",
       "8   8        Jessica    Taylor    1989-09-18 Female    \n",
       "9   9        David      Anderson  1984-05-02 Male      \n",
       "10 10        Sarah      Thomas    1992-07-27 Female    \n",
       "   address                        phone      email                          \n",
       "1  123 Elm St, Springfield, IL    5551234567 john.doe01@gmail.com           \n",
       "2  456 Oak St, Springfield, IL    5552345678 jane.smith91@yahoo.com         \n",
       "3  789 Pine St, Springfield, IL   5553456789 alex.johnson123@outlook.com    \n",
       "4  101 Maple St, Springfield, IL  5554567890 mike.brown82@hotmail.com       \n",
       "5  202 Birch St, Springfield, IL  5555678901 emily.davis94@icloud.com       \n",
       "6  303 Cedar St, Springfield, IL  5556789012 chris.wilson87@aol.com         \n",
       "7  404 Walnut St, Springfield, IL 5557890123 taylor.moore2020@protonmail.com\n",
       "8  505 Ash St, Springfield, IL    5558901234 jessica.taylor89@gmail.com     \n",
       "9  606 Pine St, Springfield, IL   5559012345 david.anderson@yahoo.com       \n",
       "10 707 Oak St, Springfield, IL    5550123456 sarah.thomas92@outlook.com     "
      ]
     },
     "metadata": {},
     "output_type": "display_data"
    }
   ],
   "source": [
    "# create a connection between R and postgres\n",
    "host <- 'localhost'\n",
    "port <- '5432'\n",
    "user <- 'sqlprojects'\n",
    "dbname <-'HealthCareDB'\n",
    "password <- 'sqlprojects'\n",
    "con <- dbConnect(RPostgres::Postgres(),host = host,port = port,user = user,dbname = dbname,password = password)\n",
    "\n",
    "# retrieve the first ten rows from the patients table\n",
    "df <-dbGetQuery(con,statement= paste('select * from patient limit 10'))\n",
    "View(df)"
   ]
  },
  {
   "cell_type": "code",
   "execution_count": 4,
   "metadata": {
    "vscode": {
     "languageId": "r"
    }
   },
   "outputs": [
    {
     "data": {
      "text/html": [
       "<table class=\"dataframe\">\n",
       "<caption>A data.frame: 8 × 2</caption>\n",
       "<thead>\n",
       "\t<tr><th scope=col>tablename</th><th scope=col>row_count</th></tr>\n",
       "\t<tr><th scope=col>&lt;chr&gt;</th><th scope=col>&lt;int64&gt;</th></tr>\n",
       "</thead>\n",
       "<tbody>\n",
       "\t<tr><td>billing       </td><td>45</td></tr>\n",
       "\t<tr><td>patient       </td><td>50</td></tr>\n",
       "\t<tr><td>doctor        </td><td>11</td></tr>\n",
       "\t<tr><td>prescription  </td><td>53</td></tr>\n",
       "\t<tr><td>insurance     </td><td>50</td></tr>\n",
       "\t<tr><td>medical_record</td><td>50</td></tr>\n",
       "\t<tr><td>lab_test      </td><td>50</td></tr>\n",
       "\t<tr><td>appointment   </td><td>45</td></tr>\n",
       "</tbody>\n",
       "</table>\n"
      ],
      "text/latex": [
       "A data.frame: 8 × 2\n",
       "\\begin{tabular}{ll}\n",
       " tablename & row\\_count\\\\\n",
       " <chr> & <int64>\\\\\n",
       "\\hline\n",
       "\t billing        & 45\\\\\n",
       "\t patient        & 50\\\\\n",
       "\t doctor         & 11\\\\\n",
       "\t prescription   & 53\\\\\n",
       "\t insurance      & 50\\\\\n",
       "\t medical\\_record & 50\\\\\n",
       "\t lab\\_test       & 50\\\\\n",
       "\t appointment    & 45\\\\\n",
       "\\end{tabular}\n"
      ],
      "text/markdown": [
       "\n",
       "A data.frame: 8 × 2\n",
       "\n",
       "| tablename &lt;chr&gt; | row_count &lt;int64&gt; |\n",
       "|---|---|\n",
       "| billing        | 45 |\n",
       "| patient        | 50 |\n",
       "| doctor         | 11 |\n",
       "| prescription   | 53 |\n",
       "| insurance      | 50 |\n",
       "| medical_record | 50 |\n",
       "| lab_test       | 50 |\n",
       "| appointment    | 45 |\n",
       "\n"
      ],
      "text/plain": [
       "  tablename      row_count\n",
       "1 billing        45       \n",
       "2 patient        50       \n",
       "3 doctor         11       \n",
       "4 prescription   53       \n",
       "5 insurance      50       \n",
       "6 medical_record 50       \n",
       "7 lab_test       50       \n",
       "8 appointment    45       "
      ]
     },
     "metadata": {},
     "output_type": "display_data"
    }
   ],
   "source": [
    "# view all the tables within the database and their row counts\n",
    "tables_query <- \"select relname as tablename, n_live_tup as row_count\n",
    "from pg_stat_user_tables\"\n",
    "dbGetQuery(con, tables_query)"
   ]
  },
  {
   "cell_type": "code",
   "execution_count": 5,
   "metadata": {
    "vscode": {
     "languageId": "r"
    }
   },
   "outputs": [
    {
     "name": "stdout",
     "output_type": "stream",
     "text": [
      "Columns for table billing : billingid patientid appointmentid billing_date amount status \n",
      "Columns for table patient : patientid first_name last_name dob gender address phone email \n",
      "Columns for table doctor : doctorid first_name last_name specialty phone_number \n",
      "Columns for table prescription : prescriptionid medication_name patientid dosage \n",
      "Columns for table insurance : insuranceid insurance_name patientid policy_number expiration_date \n",
      "Columns for table medical_record : recordid patientid doctorid visit_date diagnosis \n",
      "Columns for table lab_test : testid patientid doctorid test_name order_date test_result \n",
      "Columns for table appointment : appointmentid patientid doctorid appointment_date appointment_time status \n"
     ]
    }
   ],
   "source": [
    "# list the columns within each table\n",
    "tables <- c('billing','patient','doctor','prescription','insurance','medical_record','lab_test','appointment')\n",
    "for (i in tables) {\n",
    "    cols <- dbListFields(con,i)\n",
    "    cat('Columns for table',i,':',cols,'\\n')\n",
    "}\n"
   ]
  },
  {
   "cell_type": "code",
   "execution_count": 6,
   "metadata": {
    "vscode": {
     "languageId": "r"
    }
   },
   "outputs": [
    {
     "data": {
      "text/html": [
       "<table class=\"dataframe\">\n",
       "<caption>A data.frame: 18 × 8</caption>\n",
       "<thead>\n",
       "\t<tr><th scope=col>patientid</th><th scope=col>name</th><th scope=col>date_of_birth</th><th scope=col>appointment_status</th><th scope=col>doctor</th><th scope=col>specialty</th><th scope=col>appointment_date</th><th scope=col>appointment_time</th></tr>\n",
       "\t<tr><th scope=col>&lt;int&gt;</th><th scope=col>&lt;chr&gt;</th><th scope=col>&lt;date&gt;</th><th scope=col>&lt;chr&gt;</th><th scope=col>&lt;chr&gt;</th><th scope=col>&lt;chr&gt;</th><th scope=col>&lt;date&gt;</th><th scope=col>&lt;chr&gt;</th></tr>\n",
       "</thead>\n",
       "<tbody>\n",
       "\t<tr><td>10</td><td>Sarah Thomas  </td><td>1992-07-27</td><td>Scheduled</td><td>Dr. Johnson </td><td>Neurologist         </td><td>2024-12-29</td><td>12:00:00 PM</td></tr>\n",
       "\t<tr><td> 9</td><td>David Anderson</td><td>1984-05-02</td><td>Scheduled</td><td>Dr. Johnson </td><td>Neurologist         </td><td>2025-01-07</td><td>07:00:00 AM</td></tr>\n",
       "\t<tr><td> 1</td><td>John Doe      </td><td>1985-07-15</td><td>Scheduled</td><td>Dr. Johnson </td><td>Neurologist         </td><td>2024-12-10</td><td>09:00:00 AM</td></tr>\n",
       "\t<tr><td> 9</td><td>David Anderson</td><td>1984-05-02</td><td>Scheduled</td><td>Dr. Brown   </td><td>Pediatrician        </td><td>2025-01-17</td><td>07:00:00 AM</td></tr>\n",
       "\t<tr><td> 1</td><td>John Doe      </td><td>1985-07-15</td><td>Scheduled</td><td>Dr. Brown   </td><td>Pediatrician        </td><td>2024-12-20</td><td>09:00:00 AM</td></tr>\n",
       "\t<tr><td> 4</td><td>Michael Brown </td><td>1982-01-10</td><td>Scheduled</td><td>Dr. Davis   </td><td>General Practitioner</td><td>2024-12-13</td><td>08:00:00 AM</td></tr>\n",
       "\t<tr><td> 1</td><td>John Doe      </td><td>1985-07-15</td><td>Scheduled</td><td>Dr. Davis   </td><td>General Practitioner</td><td>2025-01-09</td><td>09:00:00 AM</td></tr>\n",
       "\t<tr><td> 4</td><td>Michael Brown </td><td>1982-01-10</td><td>Scheduled</td><td>Dr. Miller  </td><td>Dermatologist       </td><td>2024-12-23</td><td>02:00:00 PM</td></tr>\n",
       "\t<tr><td> 3</td><td>Alex Johnson  </td><td>1995-11-30</td><td>Scheduled</td><td>Dr. Miller  </td><td>Dermatologist       </td><td>2025-01-01</td><td>11:00:00 AM</td></tr>\n",
       "\t<tr><td> 1</td><td>John Doe      </td><td>1985-07-15</td><td>Scheduled</td><td>Dr. Miller  </td><td>Dermatologist       </td><td>2025-01-19</td><td>09:00:00 AM</td></tr>\n",
       "\t<tr><td> 6</td><td>Chris Wilson  </td><td>1987-08-14</td><td>Scheduled</td><td>Dr. Wilson  </td><td>Ophthalmologist     </td><td>2024-12-15</td><td>01:00:00 PM</td></tr>\n",
       "\t<tr><td> 6</td><td>Chris Wilson  </td><td>1987-08-14</td><td>Scheduled</td><td>Dr. Moore   </td><td>Gynecologist        </td><td>2024-12-25</td><td>01:00:00 PM</td></tr>\n",
       "\t<tr><td> 4</td><td>Michael Brown </td><td>1982-01-10</td><td>Scheduled</td><td>Dr. Moore   </td><td>Gynecologist        </td><td>2025-01-12</td><td>08:00:00 AM</td></tr>\n",
       "\t<tr><td> 6</td><td>Chris Wilson  </td><td>1987-08-14</td><td>Scheduled</td><td>Dr. Taylor  </td><td>Endocrinologist     </td><td>2025-01-04</td><td>01:00:00 PM</td></tr>\n",
       "\t<tr><td> 4</td><td>Michael Brown </td><td>1982-01-10</td><td>Scheduled</td><td>Dr. Taylor  </td><td>Endocrinologist     </td><td>2025-01-22</td><td>02:00:00 PM</td></tr>\n",
       "\t<tr><td> 9</td><td>David Anderson</td><td>1984-05-02</td><td>Scheduled</td><td>Dr. Anderson</td><td>Primary Care Doctor </td><td>2024-12-18</td><td>07:00:00 AM</td></tr>\n",
       "\t<tr><td> 8</td><td>Jessica Taylor</td><td>1989-09-18</td><td>Scheduled</td><td>Dr. Anderson</td><td>Primary Care Doctor </td><td>2024-12-27</td><td>04:00:00 PM</td></tr>\n",
       "\t<tr><td> 6</td><td>Chris Wilson  </td><td>1987-08-14</td><td>Scheduled</td><td>Dr. Anderson</td><td>Primary Care Doctor </td><td>2025-01-14</td><td>01:00:00 PM</td></tr>\n",
       "</tbody>\n",
       "</table>\n"
      ],
      "text/latex": [
       "A data.frame: 18 × 8\n",
       "\\begin{tabular}{llllllll}\n",
       " patientid & name & date\\_of\\_birth & appointment\\_status & doctor & specialty & appointment\\_date & appointment\\_time\\\\\n",
       " <int> & <chr> & <date> & <chr> & <chr> & <chr> & <date> & <chr>\\\\\n",
       "\\hline\n",
       "\t 10 & Sarah Thomas   & 1992-07-27 & Scheduled & Dr. Johnson  & Neurologist          & 2024-12-29 & 12:00:00 PM\\\\\n",
       "\t  9 & David Anderson & 1984-05-02 & Scheduled & Dr. Johnson  & Neurologist          & 2025-01-07 & 07:00:00 AM\\\\\n",
       "\t  1 & John Doe       & 1985-07-15 & Scheduled & Dr. Johnson  & Neurologist          & 2024-12-10 & 09:00:00 AM\\\\\n",
       "\t  9 & David Anderson & 1984-05-02 & Scheduled & Dr. Brown    & Pediatrician         & 2025-01-17 & 07:00:00 AM\\\\\n",
       "\t  1 & John Doe       & 1985-07-15 & Scheduled & Dr. Brown    & Pediatrician         & 2024-12-20 & 09:00:00 AM\\\\\n",
       "\t  4 & Michael Brown  & 1982-01-10 & Scheduled & Dr. Davis    & General Practitioner & 2024-12-13 & 08:00:00 AM\\\\\n",
       "\t  1 & John Doe       & 1985-07-15 & Scheduled & Dr. Davis    & General Practitioner & 2025-01-09 & 09:00:00 AM\\\\\n",
       "\t  4 & Michael Brown  & 1982-01-10 & Scheduled & Dr. Miller   & Dermatologist        & 2024-12-23 & 02:00:00 PM\\\\\n",
       "\t  3 & Alex Johnson   & 1995-11-30 & Scheduled & Dr. Miller   & Dermatologist        & 2025-01-01 & 11:00:00 AM\\\\\n",
       "\t  1 & John Doe       & 1985-07-15 & Scheduled & Dr. Miller   & Dermatologist        & 2025-01-19 & 09:00:00 AM\\\\\n",
       "\t  6 & Chris Wilson   & 1987-08-14 & Scheduled & Dr. Wilson   & Ophthalmologist      & 2024-12-15 & 01:00:00 PM\\\\\n",
       "\t  6 & Chris Wilson   & 1987-08-14 & Scheduled & Dr. Moore    & Gynecologist         & 2024-12-25 & 01:00:00 PM\\\\\n",
       "\t  4 & Michael Brown  & 1982-01-10 & Scheduled & Dr. Moore    & Gynecologist         & 2025-01-12 & 08:00:00 AM\\\\\n",
       "\t  6 & Chris Wilson   & 1987-08-14 & Scheduled & Dr. Taylor   & Endocrinologist      & 2025-01-04 & 01:00:00 PM\\\\\n",
       "\t  4 & Michael Brown  & 1982-01-10 & Scheduled & Dr. Taylor   & Endocrinologist      & 2025-01-22 & 02:00:00 PM\\\\\n",
       "\t  9 & David Anderson & 1984-05-02 & Scheduled & Dr. Anderson & Primary Care Doctor  & 2024-12-18 & 07:00:00 AM\\\\\n",
       "\t  8 & Jessica Taylor & 1989-09-18 & Scheduled & Dr. Anderson & Primary Care Doctor  & 2024-12-27 & 04:00:00 PM\\\\\n",
       "\t  6 & Chris Wilson   & 1987-08-14 & Scheduled & Dr. Anderson & Primary Care Doctor  & 2025-01-14 & 01:00:00 PM\\\\\n",
       "\\end{tabular}\n"
      ],
      "text/markdown": [
       "\n",
       "A data.frame: 18 × 8\n",
       "\n",
       "| patientid &lt;int&gt; | name &lt;chr&gt; | date_of_birth &lt;date&gt; | appointment_status &lt;chr&gt; | doctor &lt;chr&gt; | specialty &lt;chr&gt; | appointment_date &lt;date&gt; | appointment_time &lt;chr&gt; |\n",
       "|---|---|---|---|---|---|---|---|\n",
       "| 10 | Sarah Thomas   | 1992-07-27 | Scheduled | Dr. Johnson  | Neurologist          | 2024-12-29 | 12:00:00 PM |\n",
       "|  9 | David Anderson | 1984-05-02 | Scheduled | Dr. Johnson  | Neurologist          | 2025-01-07 | 07:00:00 AM |\n",
       "|  1 | John Doe       | 1985-07-15 | Scheduled | Dr. Johnson  | Neurologist          | 2024-12-10 | 09:00:00 AM |\n",
       "|  9 | David Anderson | 1984-05-02 | Scheduled | Dr. Brown    | Pediatrician         | 2025-01-17 | 07:00:00 AM |\n",
       "|  1 | John Doe       | 1985-07-15 | Scheduled | Dr. Brown    | Pediatrician         | 2024-12-20 | 09:00:00 AM |\n",
       "|  4 | Michael Brown  | 1982-01-10 | Scheduled | Dr. Davis    | General Practitioner | 2024-12-13 | 08:00:00 AM |\n",
       "|  1 | John Doe       | 1985-07-15 | Scheduled | Dr. Davis    | General Practitioner | 2025-01-09 | 09:00:00 AM |\n",
       "|  4 | Michael Brown  | 1982-01-10 | Scheduled | Dr. Miller   | Dermatologist        | 2024-12-23 | 02:00:00 PM |\n",
       "|  3 | Alex Johnson   | 1995-11-30 | Scheduled | Dr. Miller   | Dermatologist        | 2025-01-01 | 11:00:00 AM |\n",
       "|  1 | John Doe       | 1985-07-15 | Scheduled | Dr. Miller   | Dermatologist        | 2025-01-19 | 09:00:00 AM |\n",
       "|  6 | Chris Wilson   | 1987-08-14 | Scheduled | Dr. Wilson   | Ophthalmologist      | 2024-12-15 | 01:00:00 PM |\n",
       "|  6 | Chris Wilson   | 1987-08-14 | Scheduled | Dr. Moore    | Gynecologist         | 2024-12-25 | 01:00:00 PM |\n",
       "|  4 | Michael Brown  | 1982-01-10 | Scheduled | Dr. Moore    | Gynecologist         | 2025-01-12 | 08:00:00 AM |\n",
       "|  6 | Chris Wilson   | 1987-08-14 | Scheduled | Dr. Taylor   | Endocrinologist      | 2025-01-04 | 01:00:00 PM |\n",
       "|  4 | Michael Brown  | 1982-01-10 | Scheduled | Dr. Taylor   | Endocrinologist      | 2025-01-22 | 02:00:00 PM |\n",
       "|  9 | David Anderson | 1984-05-02 | Scheduled | Dr. Anderson | Primary Care Doctor  | 2024-12-18 | 07:00:00 AM |\n",
       "|  8 | Jessica Taylor | 1989-09-18 | Scheduled | Dr. Anderson | Primary Care Doctor  | 2024-12-27 | 04:00:00 PM |\n",
       "|  6 | Chris Wilson   | 1987-08-14 | Scheduled | Dr. Anderson | Primary Care Doctor  | 2025-01-14 | 01:00:00 PM |\n",
       "\n"
      ],
      "text/plain": [
       "   patientid name           date_of_birth appointment_status doctor      \n",
       "1  10        Sarah Thomas   1992-07-27    Scheduled          Dr. Johnson \n",
       "2   9        David Anderson 1984-05-02    Scheduled          Dr. Johnson \n",
       "3   1        John Doe       1985-07-15    Scheduled          Dr. Johnson \n",
       "4   9        David Anderson 1984-05-02    Scheduled          Dr. Brown   \n",
       "5   1        John Doe       1985-07-15    Scheduled          Dr. Brown   \n",
       "6   4        Michael Brown  1982-01-10    Scheduled          Dr. Davis   \n",
       "7   1        John Doe       1985-07-15    Scheduled          Dr. Davis   \n",
       "8   4        Michael Brown  1982-01-10    Scheduled          Dr. Miller  \n",
       "9   3        Alex Johnson   1995-11-30    Scheduled          Dr. Miller  \n",
       "10  1        John Doe       1985-07-15    Scheduled          Dr. Miller  \n",
       "11  6        Chris Wilson   1987-08-14    Scheduled          Dr. Wilson  \n",
       "12  6        Chris Wilson   1987-08-14    Scheduled          Dr. Moore   \n",
       "13  4        Michael Brown  1982-01-10    Scheduled          Dr. Moore   \n",
       "14  6        Chris Wilson   1987-08-14    Scheduled          Dr. Taylor  \n",
       "15  4        Michael Brown  1982-01-10    Scheduled          Dr. Taylor  \n",
       "16  9        David Anderson 1984-05-02    Scheduled          Dr. Anderson\n",
       "17  8        Jessica Taylor 1989-09-18    Scheduled          Dr. Anderson\n",
       "18  6        Chris Wilson   1987-08-14    Scheduled          Dr. Anderson\n",
       "   specialty            appointment_date appointment_time\n",
       "1  Neurologist          2024-12-29       12:00:00 PM     \n",
       "2  Neurologist          2025-01-07       07:00:00 AM     \n",
       "3  Neurologist          2024-12-10       09:00:00 AM     \n",
       "4  Pediatrician         2025-01-17       07:00:00 AM     \n",
       "5  Pediatrician         2024-12-20       09:00:00 AM     \n",
       "6  General Practitioner 2024-12-13       08:00:00 AM     \n",
       "7  General Practitioner 2025-01-09       09:00:00 AM     \n",
       "8  Dermatologist        2024-12-23       02:00:00 PM     \n",
       "9  Dermatologist        2025-01-01       11:00:00 AM     \n",
       "10 Dermatologist        2025-01-19       09:00:00 AM     \n",
       "11 Ophthalmologist      2024-12-15       01:00:00 PM     \n",
       "12 Gynecologist         2024-12-25       01:00:00 PM     \n",
       "13 Gynecologist         2025-01-12       08:00:00 AM     \n",
       "14 Endocrinologist      2025-01-04       01:00:00 PM     \n",
       "15 Endocrinologist      2025-01-22       02:00:00 PM     \n",
       "16 Primary Care Doctor  2024-12-18       07:00:00 AM     \n",
       "17 Primary Care Doctor  2024-12-27       04:00:00 PM     \n",
       "18 Primary Care Doctor  2025-01-14       01:00:00 PM     "
      ]
     },
     "metadata": {},
     "output_type": "display_data"
    }
   ],
   "source": [
    "# find all the patients that have a 'Scheduled' appointment status, their doctor, appointment time,and date\n",
    "scheduled_patients = \"SELECT a.patientid as patientid,\n",
    "                      p.first_name ||' '||p.last_name as name,\n",
    "                      p.dob as date_of_birth,\n",
    "                      a.status as appointment_status,\n",
    "                      'Dr.'|| ' '||d.last_name as doctor,\n",
    "                      d.specialty as specialty,\n",
    "                      a.appointment_date as appointment_date,\n",
    "                      TO_CHAR(a.appointment_time,'HH12:MM:SS AM') as appointment_time\n",
    "                      FROM patient as p INNER JOIN appointment as a\n",
    "                      on p.patientid = a.patientid\n",
    "                      INNER JOIN doctor as d on a.doctorid = d.doctorid\n",
    "                      WHERE a.status = 'Scheduled'\";\n",
    "dbGetQuery(con,scheduled_patients)"
   ]
  },
  {
   "cell_type": "code",
   "execution_count": 7,
   "metadata": {
    "vscode": {
     "languageId": "r"
    }
   },
   "outputs": [
    {
     "name": "stdout",
     "output_type": "stream",
     "text": [
      "\u001b[90m# A tibble: 4 × 2\u001b[39m\n",
      "  age_group          count\n",
      "  \u001b[3m\u001b[90m<chr>\u001b[39m\u001b[23m            \u001b[3m\u001b[90m<int64>\u001b[39m\u001b[23m\n",
      "\u001b[90m1\u001b[39m children               0\n",
      "\u001b[90m2\u001b[39m young_adults          46\n",
      "\u001b[90m3\u001b[39m middleage_adults       4\n",
      "\u001b[90m4\u001b[39m seniors                0\n"
     ]
    },
    {
     "name": "stderr",
     "output_type": "stream",
     "text": [
      "\u001b[1m\u001b[22mDon't know how to automatically pick scale for object of type \u001b[34m<integer64>\u001b[39m.\n",
      "Defaulting to continuous.\n",
      "\u001b[1m\u001b[22mDon't know how to automatically pick scale for object of type \u001b[34m<integer64>\u001b[39m.\n",
      "Defaulting to continuous.\n"
     ]
    },
    {
     "data": {
      "image/png": "[encoded data removed]",
      "text/plain": [
       "plot without title"
      ]
     },
     "metadata": {
      "image/png": {
       "height": 420,
       "width": 420
      }
     },
     "output_type": "display_data"
    }
   ],
   "source": [
    "# what is the age distribution of patients\n",
    "age_query <- \"SELECT\n",
    "              COUNT(CASE WHEN EXTRACT(YEAR FROM AGE(dob)) BETWEEN 0 AND 17 THEN 1 END) AS children,\n",
    "              COUNT(CASE WHEN EXTRACT(YEAR FROM AGE(dob)) BETWEEN 18 AND 39 THEN 1 END) AS young_adults,\n",
    "              COUNT(CASE WHEN EXTRACT(YEAR FROM AGE(dob)) BETWEEN 40 AND 64 THEN 1 END) AS middleAge_adults,\n",
    "              COUNT(CASE WHEN EXTRACT(YEAR FROM AGE(dob)) BETWEEN 65 AND 100 THEN 1 END) AS seniors\n",
    "              FROM patient\n",
    "              \"\n",
    "age_distribution <- dbGetQuery(con,age_query)\n",
    "age_distribution_reshaped <- age_distribution %>%\n",
    "                                     pivot_longer(cols = everything(),names_to = \"age_group\",values_to = \"count\")\n",
    "print(age_distribution_reshaped)\n",
    "\n",
    "ggplot(age_distribution_reshaped,aes(x = age_group,y = count,fill = age_group)) +\n",
    "geom_bar(stat = 'identity') +\n",
    "geom_text(aes(label = count),vjust = -0.3) +\n",
    "labs(title ='Patient Age Distribution',y = 'Number of patients',x = 'Age Group') +\n",
    "theme_minimal() +\n",
    "theme(legend.position = 'none')\n",
    "\n",
    "\n"
   ]
  },
  {
   "cell_type": "code",
   "execution_count": 8,
   "metadata": {
    "vscode": {
     "languageId": "r"
    }
   },
   "outputs": [
    {
     "name": "stdout",
     "output_type": "stream",
     "text": [
      "   year    insurance_name total_revenue\n",
      "1  2024 MedicareAdvantage       $300.00\n",
      "2  2024        LifeSecure       $300.00\n",
      "3  2024          MedTrust       $280.00\n",
      "4  2024      GlobalHealth       $275.00\n",
      "5  2024      GuardianCare       $250.00\n",
      "6  2024        BlueShield       $250.00\n",
      "7  2024        FamilyCare       $250.00\n",
      "8  2024         TotalCare       $240.00\n",
      "9  2024          FlexCare       $225.00\n",
      "10 2024        SecureLife       $225.00\n",
      "11 2024      MediCarePlus       $220.00\n",
      "12 2024        UnitedCare       $220.00\n",
      "13 2024          LifeCare       $210.00\n",
      "14 2024        HealthPlus       $210.00\n",
      "15 2024      ChoiceHealth       $210.00\n",
      "16 2024      MedicarePlus       $200.00\n",
      "17 2024           MedCare       $200.00\n",
      "18 2024         CareFirst       $190.00\n",
      "19 2024      HealthChoice       $190.00\n",
      "20 2024          WellPath       $185.00\n",
      "21 2024         BlueCross       $180.00\n",
      "22 2024         CignaPlus       $180.00\n",
      "23 2024       OptimumCare       $175.00\n",
      "24 2024       PrimeHealth       $175.00\n",
      "25 2024         MediTrust       $160.50\n",
      "26 2024         HealthNet       $160.25\n",
      "27 2024        EasyHealth       $160.00\n",
      "28 2024       HealthGuard       $150.00\n",
      "29 2024      OptimaHealth       $145.00\n",
      "30 2024         AetnaCare       $140.75\n",
      "31 2024          WellCare       $120.50\n",
      "32 2025           AllCare       $270.00\n",
      "33 2025       VitalHealth       $250.00\n",
      "34 2025    LifeSecurePlus       $250.00\n",
      "35 2025      WellnessCare       $240.00\n",
      "36 2025        SecurePlus       $230.00\n",
      "37 2025         TrustCare       $220.00\n",
      "38 2025       SmartHealth       $220.00\n",
      "39 2025   AdvantageHealth       $200.00\n",
      "40 2025        CareSecure       $190.00\n",
      "41 2025           MedLink       $190.00\n",
      "42 2025         GlobalMed       $180.00\n",
      "43 2025         ProHealth       $180.00\n",
      "44 2025       HealthSmart       $160.00\n",
      "45 2025           CareNet       $150.00\n"
     ]
    }
   ],
   "source": [
    "# What is the total revenue by year and insurance\n",
    "library(scales)\n",
    "revenue_query <- \"SELECT EXTRACT(YEAR FROM billing_date) AS year, insurance_name, SUM(amount) AS total_revenue\n",
    "                  FROM billing INNER JOIN insurance ON  billing.patientid = insurance.patientid\n",
    "                  GROUP BY year, insurance_name\n",
    "                  ORDER BY year ASC, total_revenue DESC\"\n",
    "revenue <- dbGetQuery(con,revenue_query)\n",
    "revenue$total_revenue <- dollar(revenue$total_revenue)\n",
    "print(revenue)"
   ]
  },
  {
   "cell_type": "code",
   "execution_count": 9,
   "metadata": {
    "vscode": {
     "languageId": "r"
    }
   },
   "outputs": [
    {
     "name": "stdout",
     "output_type": "stream",
     "text": [
      "   year    insurance_name amount\n",
      "1  2024        LifeSecure   $300\n",
      "2  2024 MedicareAdvantage   $300\n",
      "3  2024          MedTrust   $280\n",
      "4  2024      GlobalHealth   $275\n",
      "5  2024        BlueShield   $250\n",
      "6  2024        FamilyCare   $250\n",
      "7  2024      GuardianCare   $250\n",
      "8  2024         TotalCare   $240\n",
      "9  2025           AllCare   $270\n",
      "10 2025    LifeSecurePlus   $250\n",
      "11 2025       VitalHealth   $250\n",
      "12 2025      WellnessCare   $240\n",
      "13 2025        SecurePlus   $230\n",
      "14 2025       SmartHealth   $220\n",
      "15 2025         TrustCare   $220\n"
     ]
    }
   ],
   "source": [
    "# what are the top 5 used insurance by revenue and year\n",
    "# DENSE_RANK() was used to allow ties between rows\n",
    "library(scales)\n",
    "\n",
    "top_5_query <- \"with ranked_insurance AS (\n",
    "        SELECT EXTRACT(YEAR FROM billing_date) AS year, insurance_name, amount,\n",
    "        DENSE_RANK() OVER(PARTITION BY EXTRACT(YEAR FROM billing_date) ORDER BY amount DESC) AS rank\n",
    "        FROM billing AS b INNER JOIN insurance AS i ON b.patientid = i.patientid)\n",
    "\n",
    "        SELECT year, insurance_name, amount\n",
    "        FROM ranked_insurance\n",
    "        WHERE rank <= 5\n",
    "        GROUP BY year, insurance_name, amount\n",
    "        ORDER BY year,amount DESC\"\n",
    "top_5_table <- dbGetQuery(con,top_5_query)\n",
    "top_5_table$amount <- dollar(top_5_table$amount)\n",
    "print(top_5_table)\n",
    "\n"
   ]
  },
  {
   "cell_type": "code",
   "execution_count": 10,
   "metadata": {
    "vscode": {
     "languageId": "r"
    }
   },
   "outputs": [
    {
     "name": "stdout",
     "output_type": "stream",
     "text": [
      "   doctorid       doctor patients_evaluated\n",
      "1        10 Dr. Anderson                  5\n",
      "2         6   Dr. Miller                  5\n",
      "3         5    Dr. Davis                  4\n",
      "4         8    Dr. Moore                  4\n",
      "5         3    Dr. Brown                  4\n",
      "6         9   Dr. Taylor                  3\n",
      "7         2  Dr. Johnson                  3\n",
      "8         1    Dr. Smith                  3\n",
      "9         7   Dr. Wilson                  3\n",
      "10        4 Dr. Williams                  1\n"
     ]
    }
   ],
   "source": [
    "# number of patients seen by or scheduled with each doctor\n",
    "patient_doc_query <- \"SELECT a.doctorid, 'Dr.'||' '|| last_name AS doctor, COUNT(patientid) AS patients_evaluated\n",
    "                      FROM doctor AS d INNER JOIN appointment AS a\n",
    "                      ON d.doctorid = a.doctorid\n",
    "                      WHERE status ILIKE 'Completed' OR status ILIKE 'Scheduled'\n",
    "                      GROUP BY a.doctorid, doctor\n",
    "                      ORDER BY patients_evaluated DESC\"\n",
    "result <- dbGetQuery(con,patient_doc_query)\n",
    "print(result)\n"
   ]
  },
  {
   "cell_type": "code",
   "execution_count": 11,
   "metadata": {
    "vscode": {
     "languageId": "r"
    }
   },
   "outputs": [
    {
     "name": "stdout",
     "output_type": "stream",
     "text": [
      "                                diagnosis count\n",
      "1                Chronic Fatigue Syndrome     2\n",
      "2  Gastroesophageal Reflux Disease (GERD)     1\n",
      "3                           Liver Disease     1\n",
      "4             Upper Respiratory Infection     1\n",
      "5                         Hyperthyroidism     1\n",
      "6                            Tuberculosis     1\n",
      "7                  Chronic Kidney Disease     1\n",
      "8                               Cirrhosis     1\n",
      "9                 Obstructive Sleep Apnea     1\n",
      "10                             Depression     1\n"
     ]
    }
   ],
   "source": [
    "# TOP 10 common diagnosis\n",
    "diagnosis_query <- \"SELECT diagnosis, COUNT(patientid) as count\n",
    "                    FROM medical_record\n",
    "                    GROUP BY diagnosis\n",
    "                    ORDER BY count DESC \n",
    "                    LIMIT 10\"\n",
    "diagn_result <- dbGetQuery(con,diagnosis_query)\n",
    "print(diagn_result)\n"
   ]
  }
 ],
 "metadata": {
  "kernelspec": {
   "display_name": "R",
   "language": "R",
   "name": "ir"
  },
  "language_info": {
   "codemirror_mode": "r",
   "file_extension": ".r",
   "mimetype": "text/x-r-source",
   "name": "R",
   "pygments_lexer": "r",
   "version": "4.4.1"
  }
 },
 "nbformat": 4,
 "nbformat_minor": 2
}
